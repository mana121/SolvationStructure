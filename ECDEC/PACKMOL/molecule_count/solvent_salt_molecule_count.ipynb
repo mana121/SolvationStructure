{
 "cells": [
  {
   "cell_type": "code",
   "execution_count": 91,
   "metadata": {},
   "outputs": [],
   "source": [
    "# Author- Rumana Hasan\n",
    "# ME Dept., NJIT\n",
    "# Last modified: 17th July, 2024\n",
    "\n",
    "# This code is compiled for calculating the number of salt and solvent molecules for modeling any specific concentration of electrolyte solution\n",
    "# Based on the generated salt and solvent molecule number, the electrolyte system is built using the PACKMOL software\n",
    "# Finally, the prepared electrolyte system is used in MD and DFT simulation as initial configuration"
   ]
  },
  {
   "cell_type": "code",
   "execution_count": 92,
   "metadata": {},
   "outputs": [],
   "source": [
    "# This code is to calculate the number of solvent and salt molecule \n",
    "# in a cubic simulation box for any specific box volume and molar concentration.\n",
    "# The total number of atoms in the electrolyte (salt-solvent mixture) or simulation box is also calculated.\n",
    "\n",
    "# First, I calculated the number of EC solvent molecule and LiPF6 salt molecule \n",
    "# considering 8nm box length and 1M concentration\n",
    "# and verified my results with the suplementary file Table S4. \n",
    "# The paper link is given below:\n",
    "# https://pubs.acs.org/doi/10.1021/acs.jpcb.2c06993\n",
    "# Then I applied the same procedure to calculate the number of DPE solvent molecule, FEME solvent molecule, LiFSI salt molecule\n",
    "# for 5nm box length and 1.8M concentration\n"
   ]
  },
  {
   "cell_type": "code",
   "execution_count": 93,
   "metadata": {},
   "outputs": [],
   "source": [
    "# Define Avogadro's number\n",
    "Na = 6.022e23  # molecules per mol"
   ]
  },
  {
   "cell_type": "code",
   "execution_count": 94,
   "metadata": {},
   "outputs": [
    {
     "name": "stdout",
     "output_type": "stream",
     "text": [
      "Volume of the box is 1.2500000000000001e-25 cubic meters\n"
     ]
    }
   ],
   "source": [
    "# Take user inputs\n",
    "L=50 # length of the cubic simulation box in Angstroms\n",
    "#calculate the volume of the box in cubic meters\n",
    "V=L**3*(1e-10)**3\n",
    "print(\"Volume of the box is\", V, \"cubic meters\")\n",
    "\n",
    "ρ=736e3 # density of the solvent in grams per cubic meter (DPE)\n",
    "#ρ=1004e3 # density of the solvent in grams per cubic meter (FEME)\n",
    "#ρ=132e4 # density of the solvent in grams per cubic meter (EC)\n",
    "#ρ=975e3 # density of the solvent in grams per cubic meter (DEC)\n",
    "M=102.177 # molar mass of the solvent in grams per mol (DPE)\n",
    "#M=96.076 # molar mass of the solvent in grams per mol (FEME)\n",
    "#M=88.06 # molar mass of the solvent in grams per mol (EC)\n",
    "#M=118.13 # molar mass of the solvent in grams per mol (DEC)\n",
    "solvent_atom = 21 # Number of atoms in one solvent molecule (DPE)\n",
    "#solvent_atom = 12 # Number of atoms in one solvent molecule (FEME)\n",
    "#solvent_atom = 10 # Number of atoms in one solvent molecule (EC)\n",
    "#solvent_atom = 18 # Number of atoms in one solvent molecule (DEC)\n",
    "salt_atom = 10 # Number of atoms in one salt molecule (LiFSI)\n",
    "#salt_atom = 8 # Number of atoms in one salt molecule (LiPF6)"
   ]
  },
  {
   "cell_type": "code",
   "execution_count": 95,
   "metadata": {},
   "outputs": [
    {
     "name": "stdout",
     "output_type": "stream",
     "text": [
      "The mass of the solvent is: 9.200000000000001e-20 grams\n",
      "The number of molecules in the solvent is: 542.2198733570178\n",
      "The number of molecules in the solvent is: 542\n"
     ]
    }
   ],
   "source": [
    "# Calculate mass\n",
    "m = ρ * V  # mass in grams\n",
    "print(f\"The mass of the solvent is: {m} grams\")\n",
    "\n",
    "# Calculate the number of molecules\n",
    "N = (m / M) * Na\n",
    "\n",
    "# Output the result\n",
    "print(f\"The number of molecules in the solvent is: {N}\")\n",
    "#round the number of molecules to the nearest integer\n",
    "N = round(N)\n",
    "print(f\"The number of molecules in the solvent is: {N}\")\n",
    "\n",
    "# While considering half of the box is filled by one solvent or EC and another half is filled by another solvent or DEC. \n",
    "# While applying this comment the above two code lines. Run the code for EC and DEC separately with L=25.\n",
    "# N_full = (N*8)    # For box length 50\n",
    "# print(f\"The number of molecules in the solvent is: {N_full}\")\n",
    "# N = N_full/2  # For box length half of 50 or 25\n",
    "# print(f\"The number of molecules in the solvent is: {N}\")\n",
    "# N = round(N)\n",
    "# print(f\"The number of molecules in the solvent is: {N}\")\n"
   ]
  },
  {
   "cell_type": "code",
   "execution_count": 96,
   "metadata": {},
   "outputs": [
    {
     "name": "stdout",
     "output_type": "stream",
     "text": [
      "The number of atoms in the solvent is: 11382\n"
     ]
    }
   ],
   "source": [
    "#calculate the number of atoms in the solvent\n",
    "N_atoms = N*solvent_atom\n",
    "print(f\"The number of atoms in the solvent is: {N_atoms}\")\n"
   ]
  },
  {
   "cell_type": "code",
   "execution_count": 97,
   "metadata": {},
   "outputs": [
    {
     "name": "stdout",
     "output_type": "stream",
     "text": [
      "The number of molecules in the salt is: 135.49500000000003\n",
      "The number of molecules in the salt is: 135\n"
     ]
    }
   ],
   "source": [
    "#calculate the number of molecules in the salt for a specific concentration\n",
    "#Take user inputs\n",
    "c=1.8 #concentration of the salt in mol per liter\n",
    "#calculate the number of molecules in the salt\n",
    "N_salt = (c*V*Na)*1000\n",
    "print(f\"The number of molecules in the salt is: {N_salt}\")\n",
    "#round the number of molecules to the nearest integer\n",
    "N_salt = round(N_salt)\n",
    "print(f\"The number of molecules in the salt is: {N_salt}\")"
   ]
  },
  {
   "cell_type": "code",
   "execution_count": 98,
   "metadata": {},
   "outputs": [
    {
     "name": "stdout",
     "output_type": "stream",
     "text": [
      "The number of atoms in the salt is: 1350\n"
     ]
    }
   ],
   "source": [
    "#calculate the number of atoms in the salt\n",
    "N_atoms_salt = N_salt*salt_atom\n",
    "print(f\"The number of atoms in the salt is: {N_atoms_salt}\")\n"
   ]
  },
  {
   "cell_type": "code",
   "execution_count": 99,
   "metadata": {},
   "outputs": [
    {
     "name": "stdout",
     "output_type": "stream",
     "text": [
      "The total number of atoms in the simulation box is: 12732\n"
     ]
    }
   ],
   "source": [
    "#Total number of atoms in the simulation box\n",
    "N_atoms_total = N_atoms + N_atoms_salt\n",
    "print(f\"The total number of atoms in the simulation box is: {N_atoms_total}\")"
   ]
  }
 ],
 "metadata": {
  "kernelspec": {
   "display_name": "DL-env",
   "language": "python",
   "name": "python3"
  },
  "language_info": {
   "codemirror_mode": {
    "name": "ipython",
    "version": 3
   },
   "file_extension": ".py",
   "mimetype": "text/x-python",
   "name": "python",
   "nbconvert_exporter": "python",
   "pygments_lexer": "ipython3",
   "version": "3.10.9"
  }
 },
 "nbformat": 4,
 "nbformat_minor": 2
}
